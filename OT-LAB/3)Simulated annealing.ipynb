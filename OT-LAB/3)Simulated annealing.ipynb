{
 "cells": [
  {
   "cell_type": "code",
   "execution_count": 1,
   "metadata": {},
   "outputs": [],
   "source": [
    "from numpy import asarray\n",
    "from numpy import exp\n",
    "from numpy.random import randn\n",
    "from numpy.random import rand\n",
    "from numpy.random import seed"
   ]
  },
  {
   "cell_type": "code",
   "execution_count": 2,
   "metadata": {},
   "outputs": [
    {
     "name": "stdout",
     "output_type": "stream",
     "text": [
      "Starting simulated annealing algorithm\n",
      "\n",
      ">iteration 34: f([-0.78753544]) = 0.62021\n",
      ">iteration 35: f([-0.76914239]) = 0.59158\n",
      ">iteration 37: f([-0.68574854]) = 0.47025\n",
      ">iteration 39: f([-0.64797564]) = 0.41987\n",
      ">iteration 40: f([-0.58914623]) = 0.34709\n",
      ">iteration 41: f([-0.55446029]) = 0.30743\n",
      ">iteration 42: f([-0.41775702]) = 0.17452\n",
      ">iteration 43: f([-0.35038542]) = 0.12277\n",
      ">iteration 50: f([-0.15799045]) = 0.02496\n",
      ">iteration 66: f([-0.11089772]) = 0.01230\n",
      ">iteration 67: f([-0.09238208]) = 0.00853\n",
      ">iteration 72: f([-0.09145261]) = 0.00836\n",
      ">iteration 75: f([-0.05129162]) = 0.00263\n",
      ">iteration 93: f([-0.02854417]) = 0.00081\n",
      ">iteration 144: f([0.00864136]) = 0.00007\n",
      ">iteration 149: f([0.00753953]) = 0.00006\n",
      ">iteration 167: f([-0.00640394]) = 0.00004\n",
      ">iteration 225: f([-0.00044965]) = 0.00000\n",
      ">iteration 503: f([-0.00036261]) = 0.00000\n",
      ">iteration 512: f([0.00013605]) = 0.00000\n",
      "\n",
      "Simulated annealing completed\n",
      "\n",
      "Best solution: [0.00013605]\n",
      "Fitness score of the best solution: 0.00000\n"
     ]
    }
   ],
   "source": [
    "def objective(x):\n",
    "    return x[0]**2.0\n",
    "\n",
    "def simulated_annealing(objective,bounds,n_iterations,step_size,temp):\n",
    "    best = bounds[:, 0]+rand(len(bounds))*(bounds[:, 1]-bounds[:, 0])\n",
    "    best_eval = objective(best)\n",
    "    curr,curr_eval = best, best_eval\n",
    "    for i in range(n_iterations):\n",
    "        candidate = curr+randn(len(bounds))*step_size\n",
    "        candidate_eval = objective(candidate)\n",
    "        if candidate_eval < best_eval:\n",
    "            best,best_eval = candidate,candidate_eval\n",
    "            print('>iteration %d: f(%s) = %.5f' % (i,best,best_eval))\n",
    "        diff = candidate_eval - curr_eval\n",
    "        t = temp/float(i + 1)\n",
    "        metropolis = exp(-diff / t)\n",
    "        if diff < 0 or rand() <metropolis:\n",
    "            curr,curr_eval = candidate,candidate_eval\n",
    "    return [best,best_eval]\n",
    "\n",
    "seed(1)\n",
    "\n",
    "bounds = asarray([[-5.0,5.0]])\n",
    "n_iterations = 1000\n",
    "step_size = 0.1\n",
    "temp = 10\n",
    "print('Starting simulated annealing algorithm\\n')\n",
    "best, score = simulated_annealing(objective, bounds, n_iterations, step_size,temp)\n",
    "print('\\nSimulated annealing completed\\n')\n",
    "print(f'Best solution: {best}')\n",
    "print(f'Fitness score of the best solution: {score:.5f}')"
   ]
  },
  {
   "cell_type": "code",
   "execution_count": null,
   "metadata": {},
   "outputs": [],
   "source": []
  }
 ],
 "metadata": {
  "kernelspec": {
   "display_name": "Python 3",
   "language": "python",
   "name": "python3"
  },
  "language_info": {
   "codemirror_mode": {
    "name": "ipython",
    "version": 3
   },
   "file_extension": ".py",
   "mimetype": "text/x-python",
   "name": "python",
   "nbconvert_exporter": "python",
   "pygments_lexer": "ipython3",
   "version": "3.8.5"
  }
 },
 "nbformat": 4,
 "nbformat_minor": 4
}
