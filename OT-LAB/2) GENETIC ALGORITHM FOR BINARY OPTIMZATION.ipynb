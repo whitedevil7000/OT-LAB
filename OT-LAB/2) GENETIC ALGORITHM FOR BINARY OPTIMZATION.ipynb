{
 "cells": [
  {
   "cell_type": "markdown",
   "metadata": {},
   "source": [
    "#  2)GENETIC ALGORITHM FOR BINARY OPTIMZATION"
   ]
  },
  {
   "cell_type": "code",
   "execution_count": 1,
   "metadata": {},
   "outputs": [],
   "source": [
    "from numpy.random import randint\n",
    "from numpy.random import rand"
   ]
  },
  {
   "cell_type": "code",
   "execution_count": 2,
   "metadata": {},
   "outputs": [],
   "source": [
    "def onemax(x):\n",
    "    return -sum(x)"
   ]
  },
  {
   "cell_type": "code",
   "execution_count": 3,
   "metadata": {},
   "outputs": [],
   "source": [
    "def selection(pop,scores,k=3):\n",
    "    selection_ix = randint(len(pop))\n",
    "    for ix in randint(0,len(pop),k-1):\n",
    "        if scores[ix] < scores[selection_ix]:\n",
    "            selection_ix = ix\n",
    "        return pop[selection_ix]\n"
   ]
  },
  {
   "cell_type": "code",
   "execution_count": 4,
   "metadata": {},
   "outputs": [],
   "source": [
    "def crossover(p1,p2,r_cross):\n",
    "        c1,c2 =p1.copy(),p2.copy()\n",
    "        if rand() < r_cross:\n",
    "            pt = randint(1,len(p1)-2)\n",
    "            c1 = p1[:pt]+p2[pt:]\n",
    "            c2 = p2[:pt]+p1[pt:]\n",
    "        return [c1, c2]"
   ]
  },
  {
   "cell_type": "code",
   "execution_count": 5,
   "metadata": {},
   "outputs": [],
   "source": [
    "def mutation(bitstring,r_mut):\n",
    "    for i in range(len(bitstring)):\n",
    "        if rand() < r_mut:\n",
    "            bitstring[i] = 1-bitstring[i]"
   ]
  },
  {
   "cell_type": "code",
   "execution_count": 6,
   "metadata": {},
   "outputs": [
    {
     "name": "stdout",
     "output_type": "stream",
     "text": [
      "Starting genetic algorithm\n",
      "\n",
      ">iteration 99, new best f([1, 0, 1, 1, 0, 0, 1, 0, 1, 1, 1, 0, 1, 1, 0, 1, 0, 1, 1, 0]) = -12.000\n",
      ">iteration 99, new best f([0, 1, 0, 1, 0, 1, 1, 0, 1, 1, 0, 0, 1, 1, 1, 1, 0, 1, 1, 1]) = -13.000\n",
      ">iteration 99, new best f([0, 0, 1, 1, 1, 0, 0, 1, 1, 1, 0, 1, 1, 0, 1, 1, 1, 1, 1, 1]) = -14.000\n",
      "\n",
      "Genetic algorithm completed\n",
      "\n",
      "Best solution: [0, 0, 1, 1, 1, 0, 0, 1, 1, 1, 0, 1, 1, 0, 1, 1, 1, 1, 1, 1]\n",
      "Fitness score of the best solution: -14.00000\n"
     ]
    }
   ],
   "source": [
    "def genetic_algorithm(objective,n_bits,n_iter,n_pop,r_cross,r_mut):\n",
    "    pop = [randint(0,2,n_bits).tolist() for _ in range(n_pop)]\n",
    "    best,best_eval = 0,objective(pop[0])\n",
    "    for gen in range(n_iter):\n",
    "        scores = [objective(c) for c in pop]\n",
    "    for i in range(n_pop):\n",
    "        if scores[i] < best_eval:\n",
    "            best,best_eval = pop[i], scores[i]\n",
    "            print(\">iteration %d, new best f(%s) = %.3f\" % (gen, pop[i], scores[i]))\n",
    "    selected = [selection(pop, scores) for _ in range(n_pop)]\n",
    "    children = list()\n",
    "    for i in range(0, n_pop, 2):\n",
    "        p1, p2 = selected[i], selected[i+1]\n",
    "    for c in crossover(p1, p2, r_cross):\n",
    "        mutation(c, r_mut)\n",
    "        children.append(c)\n",
    "    pop = children\n",
    "    return [best, best_eval]\n",
    "n_iter = 100\n",
    "n_bits = 20\n",
    "n_pop = 100\n",
    "r_cross = 0.9\n",
    "r_mut = 1.0 / float(n_bits)\n",
    "print(f'Starting genetic algorithm\\n')\n",
    "best, score = genetic_algorithm(onemax, n_bits, n_iter, n_pop, r_cross, r_mut)\n",
    "print(f'\\nGenetic algorithm completed\\n')\n",
    "print(f'Best solution: {best}')\n",
    "print(f'Fitness score of the best solution: {score:.5f}')"
   ]
  },
  {
   "cell_type": "code",
   "execution_count": null,
   "metadata": {},
   "outputs": [],
   "source": []
  }
 ],
 "metadata": {
  "kernelspec": {
   "display_name": "Python 3",
   "language": "python",
   "name": "python3"
  },
  "language_info": {
   "codemirror_mode": {
    "name": "ipython",
    "version": 3
   },
   "file_extension": ".py",
   "mimetype": "text/x-python",
   "name": "python",
   "nbconvert_exporter": "python",
   "pygments_lexer": "ipython3",
   "version": "3.8.5"
  }
 },
 "nbformat": 4,
 "nbformat_minor": 4
}
