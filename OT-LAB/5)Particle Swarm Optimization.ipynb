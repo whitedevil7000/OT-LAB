{
 "cells": [
  {
   "cell_type": "markdown",
   "metadata": {},
   "source": [
    "# 5)->Particle Swarm Optimization"
   ]
  },
  {
   "cell_type": "code",
   "execution_count": 1,
   "metadata": {},
   "outputs": [
    {
     "name": "stdout",
     "output_type": "stream",
     "text": [
      "\n",
      "Starting PSO algorithm\n",
      "\n",
      "\n",
      "PSO completed\n",
      "\n",
      "\n",
      "Best solution found:\n",
      "['2.687285', '5.275492', '-0.091298']\n",
      "fitness of the best solution = 35.060655\n"
     ]
    }
   ],
   "source": [
    "import random\n",
    "import copy\n",
    "import sys\n",
    "\n",
    "def fitness_sphere(position):\n",
    "    fitnessVal = 0.0\n",
    "    for i in range(len(position)):\n",
    "        xi = position[i]\n",
    "        fitnessVal += (xi * xi)\n",
    "    return fitnessVal\n",
    "\n",
    "class Particle:\n",
    "    def __init__(self, fitness, dim, minx, maxx, seed):\n",
    "        self.rnd = random.Random(seed)\n",
    "        self.position = [0.0 for i in range(dim)]\n",
    "        self.velocity = [0.0 for i in range(dim)]\n",
    "        self.best_part_pos = [0.0 for i in range(dim)]\n",
    "        for i in range(dim):\n",
    "            self.position[i] = ((maxx - minx) * self.rnd.random() + minx)\n",
    "            self.velocity[i] = ((maxx - minx) * self.rnd.random() + minx)\n",
    "            self.fitness = fitness(self.position)\n",
    "            self.best_part_pos = copy.copy(self.position)\n",
    "            self.best_part_fitnessVal = self.fitness\n",
    "\n",
    "def pso(fitness, max_iter, n, dim, minx, maxx):\n",
    "    w = 0.729  # inertia\n",
    "    c1 = 1.49445  # cognitive (particle)\n",
    "    c2 = 1.49445  # social (swarm)\n",
    "    rnd = random.Random(0)\n",
    "    swarm = [Particle(fitness, dim, minx, maxx, i) for i in range(n)]\n",
    "    best_swarm_pos = [0.0 for i in range(dim)]\n",
    "    best_swarm_fitnessVal = sys.float_info.max\n",
    "    for i in range(n):\n",
    "        if swarm[i].fitness < best_swarm_fitnessVal:\n",
    "            best_swarm_fitnessVal = swarm[i].fitness\n",
    "            best_swarm_pos = copy.copy(swarm[i].position)\n",
    "            Iter = 0\n",
    "            while Iter < max_iter:\n",
    "                if Iter % 10 == 0 and Iter > 1:\n",
    "                    print(\"Iter = \" + str(Iter) + \" best fitness = %.3f\" % best_swarm_fitnessVal + \" Best position: \" + str(\n",
    "                        [\"%.6f\" % best_swarm_pos[k] for k in range(dim)]))\n",
    "                for i in range(n):\n",
    "                    for k in range(dim):\n",
    "                        r1 = rnd.random()\n",
    "                        r2 = rnd.random()\n",
    "                        swarm[i].velocity[k] = ((w * swarm[i].velocity[k]) + (c1 * r1 * (\n",
    "                                    swarm[i].best_part_pos[k] - swarm[i].position[k])) + (c2 * r2 * (\n",
    "                                                                best_swarm_pos[k] - swarm[i].position[k])))\n",
    "                        if swarm[i].velocity[k] < minx:\n",
    "                            swarm[i].velocity[k] = minx\n",
    "                        elif swarm[i].velocity[k] > maxx:\n",
    "                            swarm[i].velocity[k] = maxx\n",
    "                        for k in range(dim):\n",
    "                            swarm[i].position[k] += swarm[i].velocity[k]\n",
    "                            swarm[i].fitness = fitness(swarm[i].position)\n",
    "                            if swarm[i].fitness < swarm[i].best_part_fitnessVal:\n",
    "                                swarm[i].best_part_fitnessVal = swarm[i].fitness\n",
    "                                swarm[i].best_part_pos = copy.copy(swarm[i].position)\n",
    "                                if swarm[i].fitness < best_swarm_fitnessVal:\n",
    "                                    best_swarm_fitnessVal = swarm[i].fitness\n",
    "                                    best_swarm_pos = copy.copy(swarm[i].position)\n",
    "                                    Iter += 1\n",
    "                                    return best_swarm_pos\n",
    "\n",
    "dim = 3\n",
    "fitness = fitness_sphere\n",
    "num_particles = 50\n",
    "max_iter = 100\n",
    "print(\"\\nStarting PSO algorithm\\n\")\n",
    "best_position = pso(fitness, max_iter, num_particles, dim, -10.0, 10.0)\n",
    "print(\"\\nPSO completed\\n\")\n",
    "print(\"\\nBest solution found:\")\n",
    "print([\"%.6f\" % best_position[k] for k in range(dim)])\n",
    "fitnessVal = fitness(best_position)\n",
    "print(\"fitness of the best solution = %.6f\" % fitnessVal)"
   ]
  },
  {
   "cell_type": "code",
   "execution_count": null,
   "metadata": {},
   "outputs": [],
   "source": []
  }
 ],
 "metadata": {
  "kernelspec": {
   "display_name": "Python 3",
   "language": "python",
   "name": "python3"
  },
  "language_info": {
   "codemirror_mode": {
    "name": "ipython",
    "version": 3
   },
   "file_extension": ".py",
   "mimetype": "text/x-python",
   "name": "python",
   "nbconvert_exporter": "python",
   "pygments_lexer": "ipython3",
   "version": "3.8.5"
  }
 },
 "nbformat": 4,
 "nbformat_minor": 4
}
