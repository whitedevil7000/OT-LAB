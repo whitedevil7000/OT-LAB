{
 "cells": [
  {
   "cell_type": "markdown",
   "metadata": {},
   "source": [
    "# 1) Genetic algorithm for continuous optimization"
   ]
  },
  {
   "cell_type": "code",
   "execution_count": 1,
   "metadata": {},
   "outputs": [
    {
     "name": "stdout",
     "output_type": "stream",
     "text": [
      "Starting genetic algorithm \n",
      "\n",
      ">iteration 0, new best f([-3.292999267578125, 1.367034912109375]) = 12.712629\n",
      ">iteration 0, new best f([0.43731689453125, 3.113250732421875]) = 9.883576\n",
      ">iteration 0, new best f([-1.65679931640625, 1.5875244140625]) = 5.265218\n",
      ">iteration 0, new best f([-0.6036376953125, -2.197113037109375]) = 5.191684\n",
      ">iteration 0, new best f([0.86151123046875, 1.58172607421875]) = 3.244059\n",
      ">iteration 0, new best f([0.176849365234375, -0.696258544921875]) = 0.516052\n",
      ">iteration 0, new best f([0.704803466796875, 0.13824462890625]) = 0.515860\n",
      ">iteration 0, new best f([0.246124267578125, 0.15228271484375]) = 0.083767\n",
      ">iteration 1, new best f([0.180816650390625, -0.13519287109375]) = 0.050972\n",
      ">iteration 1, new best f([0.089874267578125, 0.15289306640625]) = 0.031454\n",
      ">iteration 2, new best f([0.17669677734375, 0.010223388671875]) = 0.031326\n",
      ">iteration 2, new best f([0.079803466796875, 0.13702392578125]) = 0.025144\n",
      ">iteration 3, new best f([0.03997802734375, 0.010223388671875]) = 0.001703\n",
      ">iteration 5, new best f([0.00152587890625, 0.019073486328125]) = 0.000366\n",
      ">iteration 10, new best f([-0.000457763671875, -0.00885009765625]) = 0.000079\n",
      ">iteration 12, new best f([-0.000457763671875, -0.008697509765625]) = 0.000076\n",
      ">iteration 13, new best f([-0.000457763671875, -0.007171630859375]) = 0.000052\n",
      ">iteration 15, new best f([0.000762939453125, -0.00030517578125]) = 0.000001\n",
      ">iteration 20, new best f([0.0, -0.000457763671875]) = 0.000000\n",
      ">iteration 21, new best f([0.0, -0.00030517578125]) = 0.000000\n",
      ">iteration 33, new best f([0.000152587890625, -0.000152587890625]) = 0.000000\n",
      ">iteration 36, new best f([0.0, -0.000152587890625]) = 0.000000\n",
      "\n",
      "Genetic algorithm completed \n",
      "\n",
      "best solution:[0.0, -0.000152587890625]\n",
      "fitness score of the best solution: 0.00000\n"
     ]
    }
   ],
   "source": [
    "from numpy.random import randint\n",
    "from numpy.random import rand\n",
    "\n",
    "def objective(x):\n",
    "    return x[0]**2.0 + x[1]**2.0\n",
    "def decode(bounds,n_bits, bitstring):\n",
    "    decoded = list()\n",
    "    largest = 2**n_bits\n",
    "    for i in range(len(bounds)):\n",
    "        start,end=i*n_bits,(i*n_bits)+n_bits\n",
    "        substring = bitstring[start:end]\n",
    "        chars=\"\".join([str(s) for s in substring])\n",
    "        integer = int(chars,2)\n",
    "        value=bounds[i][0]+(integer/largest)*(bounds[i][1]-bounds[i][0])\n",
    "        decoded.append(value)\n",
    "    return decoded\n",
    "def selection(pop,scores,k=3):\n",
    "    selection_ix = randint(len(pop))\n",
    "    for ix in randint(0,len(pop),k-1):\n",
    "        if scores[ix] < scores[selection_ix]:\n",
    "            selection_ix=ix\n",
    "    return pop[selection_ix]\n",
    "def crossover(p1,p2,r_cross):\n",
    "    c1,c2=p1.copy(),p2.copy()\n",
    "    if rand()<r_cross:\n",
    "        pt = randint(1,len(p1)-2)\n",
    "        c1 = p1[:pt]+p2[pt:]\n",
    "        c2 = p2[:pt]+p1[pt:]\n",
    "    return [c1, c2]\n",
    "def mutation(bitstring, r_mut):\n",
    "    for i in range(len(bitstring)):\n",
    "        if rand() < r_mut:\n",
    "            bitstring[i] = 1 - bitstring[i]\n",
    "def genetic_algorithm(objective,bounds,n_bits,n_iter,n_pop,r_cross,r_mut):\n",
    "    pop = [randint(0,2,n_bits*len(bounds)).tolist() for _ in range(n_pop)]\n",
    "    best,best_eval = 0,objective(decode(bounds,n_bits,pop[0]))\n",
    "    \n",
    "    for gen in range(n_iter):\n",
    "        decoded = [decode(bounds,n_bits,p) for p in pop]\n",
    "        scores = [objective(d) for d in decoded]\n",
    "        \n",
    "        for i in range(n_pop):\n",
    "            if scores[i] < best_eval:\n",
    "                best,best_eval = pop[i], scores[i]\n",
    "                print(\">iteration %d, new best f(%s) = %f\" % (gen, decoded[i], scores[i]))\n",
    "            selected = [selection(pop, scores) for _ in range(n_pop)]\n",
    "            children = list()\n",
    "            for i in range(0,n_pop,2):\n",
    "                p1, p2=selected[i],selected[i+1]\n",
    "                for c in crossover(p1,p2,r_cross):\n",
    "                    mutation(c,r_mut)\n",
    "                    children.append(c)\n",
    "        pop = children\n",
    "    return [best,best_eval]\n",
    "bounds = [[-5.0,5.0],[-5.0,5.0]]\n",
    "n_iter = 100\n",
    "n_bits = 16\n",
    "n_pop = 100\n",
    "r_cross = 0.9\n",
    "r_mut = 1.0/(float(n_bits)*len(bounds))\n",
    "print(f'Starting genetic algorithm \\n')\n",
    "best,score = genetic_algorithm(objective,bounds,n_bits,n_iter,n_pop,r_cross,r_mut)\n",
    "decoded = decode(bounds,n_bits,best)\n",
    "print(f'\\nGenetic algorithm completed \\n')\n",
    "print(f'best solution:{decoded}')\n",
    "print(f'fitness score of the best solution: {score:.5f}')"
   ]
  },
  {
   "cell_type": "markdown",
   "metadata": {},
   "source": [
    " "
   ]
  },
  {
   "cell_type": "code",
   "execution_count": null,
   "metadata": {},
   "outputs": [],
   "source": []
  }
 ],
 "metadata": {
  "kernelspec": {
   "display_name": "Python 3",
   "language": "python",
   "name": "python3"
  },
  "language_info": {
   "codemirror_mode": {
    "name": "ipython",
    "version": 3
   },
   "file_extension": ".py",
   "mimetype": "text/x-python",
   "name": "python",
   "nbconvert_exporter": "python",
   "pygments_lexer": "ipython3",
   "version": "3.8.5"
  }
 },
 "nbformat": 4,
 "nbformat_minor": 4
}
